{
  "nbformat": 4,
  "nbformat_minor": 0,
  "metadata": {
    "colab": {
      "name": "Untitled7.ipynb",
      "provenance": []
    },
    "kernelspec": {
      "name": "python3",
      "display_name": "Python 3"
    }
  },
  "cells": [
    {
      "cell_type": "code",
      "metadata": {
        "id": "B7aXD6ewMHE6",
        "colab_type": "code",
        "colab": {
          "base_uri": "https://localhost:8080/",
          "height": 34
        },
        "outputId": "e42cbad8-0297-4de2-a3f4-dc52c437976e"
      },
      "source": [
        "line = lambda numero1= 0, exponente2 = 0: numero1**exponente2\n",
        "print (line(2,3))"
      ],
      "execution_count": 5,
      "outputs": [
        {
          "output_type": "stream",
          "text": [
            "8\n"
          ],
          "name": "stdout"
        }
      ]
    },
    {
      "cell_type": "code",
      "metadata": {
        "id": "a0iCBSHNN6Vr",
        "colab_type": "code",
        "colab": {
          "base_uri": "https://localhost:8080/",
          "height": 34
        },
        "outputId": "7376691c-dfca-48d4-e147-78815825ab88"
      },
      "source": [
        "palabra = lambda palabra,numero : palabra *numero \n",
        "print (palabra(\"heavy\", 3))"
      ],
      "execution_count": 7,
      "outputs": [
        {
          "output_type": "stream",
          "text": [
            "heavyheavyheavy\n"
          ],
          "name": "stdout"
        }
      ]
    },
    {
      "cell_type": "code",
      "metadata": {
        "id": "GcIDDF5mPlN_",
        "colab_type": "code",
        "colab": {
          "base_uri": "https://localhost:8080/",
          "height": 34
        },
        "outputId": "dc938561-4b9d-48e9-c6d1-433543341f18"
      },
      "source": [
        "lista_ingresada1= [1,2,3,4]\n",
        "lista_ingresada2= [1,5,6,7]\n",
        "\n",
        "maximo_numero = lambda lista_ingresada1,lista_ingresada2 : print (max(lista_ingresada1), max(lista_ingresada2))\n",
        "maximo_numero (lista_ingresada1,lista_ingresada2)\n"
      ],
      "execution_count": 10,
      "outputs": [
        {
          "output_type": "stream",
          "text": [
            "4 7\n"
          ],
          "name": "stdout"
        }
      ]
    },
    {
      "cell_type": "code",
      "metadata": {
        "id": "BvRiWu0LRwkA",
        "colab_type": "code",
        "colab": {
          "base_uri": "https://localhost:8080/",
          "height": 68
        },
        "outputId": "461c817d-aa79-4ef1-c615-b75811605853"
      },
      "source": [
        "#funcion map\n",
        "lista = [1,2,3,4]\n",
        "numero= 2\n",
        "Cuadrado = lambda valor : valor **2\n",
        "x = list (map (Cuadrado, lista))\n",
        "print(x)\n",
        "\n",
        "dividir = lambda dividir : dividir / max(lista)\n",
        "x = list (map (dividir, lista))\n",
        "print(x)\n",
        "\n",
        "restar = lambda restar: restar - numero \n",
        "x = list (map (restar, lista))\n",
        "print(x)\n",
        "\n",
        "\n",
        "\n"
      ],
      "execution_count": 15,
      "outputs": [
        {
          "output_type": "stream",
          "text": [
            "[1, 4, 9, 16]\n",
            "[0.25, 0.5, 0.75, 1.0]\n",
            "[-1, 0, 1, 2]\n"
          ],
          "name": "stdout"
        }
      ]
    },
    {
      "cell_type": "code",
      "metadata": {
        "id": "kAx2RGHFT2iS",
        "colab_type": "code",
        "colab": {
          "base_uri": "https://localhost:8080/",
          "height": 85
        },
        "outputId": "3a9e08c5-f8a0-4aba-9bce-2bf5ebf4e9ed"
      },
      "source": [
        "#funcion finder\n",
        "listaNumeros = [1,2,3,14,23,4,8,9,21,7,49]\n",
        "divisible = lambda elemento : elemento %7 == 0\n",
        "lista_filtrada = list (filter(divisible,listaNumeros))\n",
        "print (lista_filtrada)\n",
        "\n",
        "\n",
        "listaNombres = [\"les\", \"valeria\", \"sara\", \"juli\",\"miguel\", \"kevin\"]\n",
        "tamaño = lambda elemento : len(elemento) < 5 \n",
        "lista_nombres = list (filter(tamaño,listaNombres))\n",
        "print (lista_nombres)\n",
        "\n",
        "\n",
        "\n",
        "par = lambda elemento : elemento %2 == 0\n",
        "pares = list (filter(par,listaNumeros))\n",
        "print (pares)\n",
        "\n",
        "\n",
        "\n",
        "impar = lambda elemento : elemento %2 != 0\n",
        "impares = list (filter(impar,listaNumeros))\n",
        "print (impares)\n"
      ],
      "execution_count": 3,
      "outputs": [
        {
          "output_type": "stream",
          "text": [
            "[14, 21, 7, 49]\n",
            "['les', 'sara', 'juli']\n",
            "[2, 14, 4, 8]\n",
            "[1, 3, 23, 9, 21, 7, 49]\n"
          ],
          "name": "stdout"
        }
      ]
    }
  ]
}