{
  "nbformat": 4,
  "nbformat_minor": 0,
  "metadata": {
    "colab": {
      "name": "Estructura_de_Datos.ipynb",
      "provenance": [],
      "collapsed_sections": [],
      "toc_visible": true
    },
    "kernelspec": {
      "name": "python3",
      "display_name": "Python 3"
    }
  },
  "cells": [
    {
      "cell_type": "markdown",
      "metadata": {
        "id": "2f8NXwTz5GF4",
        "colab_type": "text"
      },
      "source": [
        "# Estructura de datos\n",
        "Hoy veremos las diferentes estructuras de datos que analizamos el semestre anterior a forma de repaso\n",
        "\n",
        "\n"
      ]
    },
    {
      "cell_type": "markdown",
      "metadata": {
        "id": "EZpUaSBw-Brn",
        "colab_type": "text"
      },
      "source": [
        "#Tuplas\n",
        "Las tuplas no permiten asignacion de nuevos valores pues listas que no se pueden modificar"
      ]
    },
    {
      "cell_type": "code",
      "metadata": {
        "id": "G7TIeqj854Bw",
        "colab_type": "code",
        "colab": {
          "base_uri": "https://localhost:8080/",
          "height": 54
        },
        "outputId": "157f745a-7ccd-45f1-cbab-43cf848f5b2d"
      },
      "source": [
        "lista_tupla = (1,2,3,4,12)\n",
        "print (lista_tupla)\n",
        "\n",
        "meses = (\"enero\", \"febrero\")\n",
        "dias = (\"lunes\", \"martes\")\n",
        "\n",
        "print(meses, dias)"
      ],
      "execution_count": null,
      "outputs": [
        {
          "output_type": "stream",
          "text": [
            "(1, 2, 3, 4, 12)\n",
            "('enero', 'febrero') ('lunes', 'martes')\n"
          ],
          "name": "stdout"
        }
      ]
    },
    {
      "cell_type": "markdown",
      "metadata": {
        "id": "_L8w1shJ54OX",
        "colab_type": "text"
      },
      "source": [
        "# Diccionarios\n"
      ]
    },
    {
      "cell_type": "code",
      "metadata": {
        "id": "bAPepFHb7gsA",
        "colab_type": "code",
        "colab": {
          "base_uri": "https://localhost:8080/",
          "height": 90
        },
        "outputId": "005423dc-11a8-4256-a66e-45e128389a11"
      },
      "source": [
        "diccionario = {}\n",
        "diccionario = {\"Alumnos\":[\"Elena\", \"Marco\", \"Juanes\", \"Maria Camila\"], \"Profesores\":[\"Braiam\", \"Catalina\", \"Gustavo\", \"Daniel\"] }\n",
        "print (diccionario[\"Alumnos\"])\n",
        "print (diccionario[\"Profesores\"])\n",
        "print (diccionario.keys())\n",
        "print(diccionario.values())\n"
      ],
      "execution_count": null,
      "outputs": [
        {
          "output_type": "stream",
          "text": [
            "['Elena', 'Marco', 'Juanes', 'Maria Camila']\n",
            "['Braiam', 'Catalina', 'Gustavo', 'Daniel']\n",
            "dict_keys(['Alumnos', 'Profesores'])\n",
            "dict_values([['Elena', 'Marco', 'Juanes', 'Maria Camila'], ['Braiam', 'Catalina', 'Gustavo', 'Daniel']])\n"
          ],
          "name": "stdout"
        }
      ]
    },
    {
      "cell_type": "markdown",
      "metadata": {
        "id": "olHHYL_l8tqg",
        "colab_type": "text"
      },
      "source": [
        "Por ejemplo para adicionar una nueva llave en el diccionario hacemos lo siguiente\n"
      ]
    },
    {
      "cell_type": "code",
      "metadata": {
        "id": "aseqLFSU5xIP",
        "colab_type": "code",
        "colab": {
          "base_uri": "https://localhost:8080/",
          "height": 35
        },
        "outputId": "b0b4685f-15fc-422d-aecd-705a2545e955"
      },
      "source": [
        "diccionario[\"Directores\"] = [\"Carolina\",\"Tatiana\"]\n",
        "print(diccionario)"
      ],
      "execution_count": null,
      "outputs": [
        {
          "output_type": "stream",
          "text": [
            "{'Alumnos': ['Elena', 'Marco', 'Juanes', 'Maria Camila'], 'Profesores': ['Braiam', 'Catalina', 'Gustavo', 'Daniel'], 'Directores': ['Carolina', 'Tatiana']}\n"
          ],
          "name": "stdout"
        }
      ]
    },
    {
      "cell_type": "markdown",
      "metadata": {
        "id": "v41TLKfD-Vr3",
        "colab_type": "text"
      },
      "source": [
        "# Listas\n"
      ]
    },
    {
      "cell_type": "code",
      "metadata": {
        "id": "9AvNcG5a9eR4",
        "colab_type": "code",
        "colab": {
          "base_uri": "https://localhost:8080/",
          "height": 35
        },
        "outputId": "5135bad1-2e71-434d-9811-871bbf563c29"
      },
      "source": [
        "listas = [\"Directores\",2,1.78]\n",
        "print (listas)"
      ],
      "execution_count": null,
      "outputs": [
        {
          "output_type": "stream",
          "text": [
            "['Directores', 2, 1.78]\n"
          ],
          "name": "stdout"
        }
      ]
    },
    {
      "cell_type": "markdown",
      "metadata": {
        "id": "UjaIdmqI5yZf",
        "colab_type": "text"
      },
      "source": [
        "# Variables elementales\n"
      ]
    },
    {
      "cell_type": "code",
      "metadata": {
        "id": "lr6U2Fth-8Qx",
        "colab_type": "code",
        "colab": {
          "base_uri": "https://localhost:8080/",
          "height": 217
        },
        "outputId": "4e2221a3-e449-442c-8da0-e2b5ddc25ae0"
      },
      "source": [
        "edad = -1\n",
        "estatura = 1.67\n",
        "nombre = \"Daniel\"\n",
        "boolean = True\n",
        "condicion = edad > 25 and estatura  > 1.40\n",
        "print (condicion)\n",
        "print (type(edad), type(estatura), type(nombre), type (condicion))\n",
        "\n",
        "if (condicion): \n",
        "  print(\"Esto satisface la condicion\")\n",
        "\n",
        "print (type (meses))\n",
        "print (type (diccionario))\n",
        "print (type (listas))\n",
        "\n",
        "nombre = nombre + \" Herrera \"\n",
        "while (edad < 0):\n",
        "  try:\n",
        "    edad = int (input(\"ingrese su edad : \"))\n",
        "  except ValueError:\n",
        "    print (\"Entrada no valida\")\n",
        "\n",
        "print (\"Adios\")"
      ],
      "execution_count": null,
      "outputs": [
        {
          "output_type": "stream",
          "text": [
            "False\n",
            "<class 'int'> <class 'float'> <class 'str'> <class 'bool'>\n",
            "<class 'tuple'>\n",
            "<class 'dict'>\n",
            "<class 'list'>\n",
            "ingrese su edad : sad\n",
            "Entrada no valida\n",
            "ingrese su edad : asd\n",
            "Entrada no valida\n",
            "ingrese su edad : 27\n",
            "Adios\n"
          ],
          "name": "stdout"
        }
      ]
    }
  ]
}