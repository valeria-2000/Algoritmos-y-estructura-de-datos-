{
  "nbformat": 4,
  "nbformat_minor": 0,
  "metadata": {
    "colab": {
      "name": "Untitled3.ipynb",
      "provenance": []
    },
    "kernelspec": {
      "name": "python3",
      "display_name": "Python 3"
    }
  },
  "cells": [
    {
      "cell_type": "code",
      "metadata": {
        "id": "TCoD4w2dx3vp",
        "colab_type": "code",
        "colab": {
          "base_uri": "https://localhost:8080/",
          "height": 34
        },
        "outputId": "efe3f20e-ef44-4209-9c23-06be38837835"
      },
      "source": [
        "import requests\n",
        "url = 'https://www.eltiempo.com/'\n",
        "\n",
        "response = requests.get(url)\n",
        "print(response)"
      ],
      "execution_count": 30,
      "outputs": [
        {
          "output_type": "stream",
          "text": [
            "<Response [200]>\n"
          ],
          "name": "stdout"
        }
      ]
    },
    {
      "cell_type": "code",
      "metadata": {
        "id": "eyCqJ3bOyMMR",
        "colab_type": "code",
        "colab": {}
      },
      "source": [
        "print (response.headers)\n",
        "print (response.headers['Date'])\n",
        "print (response.text)"
      ],
      "execution_count": null,
      "outputs": []
    },
    {
      "cell_type": "code",
      "metadata": {
        "id": "A63Sf-sFyb7B",
        "colab_type": "code",
        "colab": {}
      },
      "source": [
        "import bs4\n",
        "completo = bs4.BeautifulSoup(response.text,'html.parser')\n",
        "noticias = completo.select('.category-published a')\n",
        "print (noticias)"
      ],
      "execution_count": null,
      "outputs": []
    },
    {
      "cell_type": "code",
      "metadata": {
        "id": "Syv-eOuW3oC_",
        "colab_type": "code",
        "colab": {
          "base_uri": "https://localhost:8080/",
          "height": 71
        },
        "outputId": "c38459ed-11dd-49f3-d68d-85f59edae697"
      },
      "source": [
        "titulos =[]\n",
        "links = []\n",
        "for noticia in noticias:\n",
        "  titulos.append(noticia.text)\n",
        "  links.append( 'https://www.eltiempo.com/ ' + noticia['href'])\n",
        "print (titulos)\n",
        "print (links)\n",
        "dictNoticias = {}\n",
        "dictNoticias['Noticias '] = titulos\n",
        "dictNoticias['links'] = links"
      ],
      "execution_count": 33,
      "outputs": [
        {
          "output_type": "stream",
          "text": [
            "['Unidad Investigativa', 'Investigación', 'Santander', 'Partidos Políticos', 'Partidos Políticos', 'Gobierno', 'Sectores', 'Medellín', 'Bogotá', 'Fútbol Internacional', 'Gobierno', 'Medellín', 'Otras Ciudades', 'Bogotá', 'Video', 'Ciencia', 'Caso Uribe: su llegada a la Fiscalía / Ahora sí regresa el fútbol', '', '', '', 'Bogotá', 'EEUU y Canadá', 'Otras Ciudades', 'Congreso', 'Cultura', 'Europa', 'Foros El Tiempo', 'Gente', 'Servicios', 'Medellín', 'Bogotá', 'Salud', 'Barranquilla', 'Salud', 'Ciclismo', 'Contenido Patrocinado', 'negocios', 'divisas', 'economía', 'Gente', 'Viajar', 'Barranquilla', 'Más Regiones', 'Más Regiones', 'Medio Ambiente', 'Gente', 'Gobierno', 'Sectores', 'Contenido Patrocinado', 'Contenido Patrocinado', 'Contenido Patrocinado', 'Contenido Patrocinado', 'Contenido Patrocinado', 'Contenido Patrocinado', 'Contenido Patrocinado', 'Contenido Patrocinado', 'Contenido Patrocinado', 'Contenido Patrocinado', 'Contenido Patrocinado', 'Contenido Patrocinado', 'Contenido Patrocinado', 'Contenido Patrocinado', 'Novedades Tecnología', 'Cine y Tv', 'Música y Libros', 'Gente', 'Música y Libros', 'Contenido Patrocinado', 'Gente', '\\nSectores\\n', '\\nGente\\n', '\\nCiencia\\n', '\\nInvestigación\\n', '\\nFútbol Internacional\\n', '\\nPartidos Políticos\\n', '\\nNovedades Tecnología\\n', '\\nMedellín\\n', 'Más Contenido', 'Foros El Tiempo', 'Más Contenido', 'Venezuela', 'Foros El Tiempo', 'Música y Libros', 'Bogotá', 'Gobierno', 'Novedades Tecnología', 'Cortes', 'Salud', 'Gente', 'Otras Ciudades', 'Política', 'Otras Ciudades']\n",
            "['https://www.eltiempo.com/ /unidad-investigativa', 'https://www.eltiempo.com/ /justicia/investigacion', 'https://www.eltiempo.com/ /colombia/santander', 'https://www.eltiempo.com/ /politica/partidos-politicos', 'https://www.eltiempo.com/ /politica/partidos-politicos', 'https://www.eltiempo.com/ /politica/gobierno', 'https://www.eltiempo.com/ /economia/sectores', 'https://www.eltiempo.com/ /colombia/medellin', 'https://www.eltiempo.com/ /bogota', 'https://www.eltiempo.com/ /deportes/futbol-internacional', 'https://www.eltiempo.com/ /politica/gobierno', 'https://www.eltiempo.com/ /colombia/medellin', 'https://www.eltiempo.com/ /colombia/otras-ciudades', 'https://www.eltiempo.com/ /bogota', 'https://www.eltiempo.com/ /vida/ciencia/tunel-de-la-linea-la-ciencia-detras-de-la-construccion-de-estas-obras-de-ingenieria-535224', 'https://www.eltiempo.com/ /vida/ciencia', 'https://www.eltiempo.com/ /podcast/el-primer-cafe/principales-noticias-de-colombia-y-el-mundo-en-el-primer-cafe-535251', 'https://www.eltiempo.com/ ', 'https://www.eltiempo.com/ ', 'https://www.eltiempo.com/ ', 'https://www.eltiempo.com/ /bogota', 'https://www.eltiempo.com/ /mundo/eeuu-y-canada', 'https://www.eltiempo.com/ /colombia/otras-ciudades', 'https://www.eltiempo.com/ /politica/congreso', 'https://www.eltiempo.com/ /cultura', 'https://www.eltiempo.com/ /mundo/europa', 'https://www.eltiempo.com/ /foros-el-tiempo', 'https://www.eltiempo.com/ /cultura/gente', 'https://www.eltiempo.com/ /justicia/servicios', 'https://www.eltiempo.com/ /colombia/medellin', 'https://www.eltiempo.com/ /bogota', 'https://www.eltiempo.com/ /salud', 'https://www.eltiempo.com/ /colombia/barranquilla', 'https://www.eltiempo.com/ /salud', 'https://www.eltiempo.com/ /deportes/ciclismo', 'https://www.eltiempo.com/ /contenido-comercial', 'https://www.eltiempo.com/ https://www.portafolio.co/', 'https://www.eltiempo.com/ https://www.portafolio.co/economia/dolar-trm-hoy-precio-del-dolar-en-colombia-hoy-martes-1-de-septiembre-de-2020-544178', 'https://www.eltiempo.com/ https://www.portafolio.co/tendencias/primer-paciente-reinfectado-de-coronavirus-en-colombia-544159', 'https://www.eltiempo.com/ /cultura/gente', 'https://www.eltiempo.com/ /vida/viajar', 'https://www.eltiempo.com/ /colombia/barranquilla', 'https://www.eltiempo.com/ /mundo/mas-regiones', 'https://www.eltiempo.com/ /mundo/mas-regiones', 'https://www.eltiempo.com/ /vida/medio-ambiente', 'https://www.eltiempo.com/ /cultura/gente', 'https://www.eltiempo.com/ /politica/gobierno', 'https://www.eltiempo.com/ /economia/sectores', 'https://www.eltiempo.com/ /contenido-comercial', 'https://www.eltiempo.com/ /contenido-comercial', 'https://www.eltiempo.com/ /contenido-comercial', 'https://www.eltiempo.com/ /contenido-comercial', 'https://www.eltiempo.com/ /contenido-comercial', 'https://www.eltiempo.com/ /contenido-comercial', 'https://www.eltiempo.com/ /contenido-comercial', 'https://www.eltiempo.com/ /contenido-comercial', 'https://www.eltiempo.com/ /contenido-comercial', 'https://www.eltiempo.com/ /contenido-comercial', 'https://www.eltiempo.com/ /contenido-comercial', 'https://www.eltiempo.com/ /contenido-comercial', 'https://www.eltiempo.com/ /contenido-comercial', 'https://www.eltiempo.com/ /contenido-comercial', 'https://www.eltiempo.com/ /tecnosfera/novedades-tecnologia', 'https://www.eltiempo.com/ /cultura/cine-y-tv', 'https://www.eltiempo.com/ /cultura/musica-y-libros', 'https://www.eltiempo.com/ /cultura/gente', 'https://www.eltiempo.com/ /cultura/musica-y-libros', 'https://www.eltiempo.com/ /contenido-comercial', 'https://www.eltiempo.com/ /cultura/gente', 'https://www.eltiempo.com/ economia/sectores', 'https://www.eltiempo.com/ cultura/gente', 'https://www.eltiempo.com/ vida/ciencia', 'https://www.eltiempo.com/ justicia/investigacion', 'https://www.eltiempo.com/ deportes/futbol-internacional', 'https://www.eltiempo.com/ politica/partidos-politicos', 'https://www.eltiempo.com/ tecnosfera/novedades-tecnologia', 'https://www.eltiempo.com/ colombia/medellin', 'https://www.eltiempo.com/ /contenido-comercial', 'https://www.eltiempo.com/ /foros-el-tiempo', 'https://www.eltiempo.com/ /contenido-comercial', 'https://www.eltiempo.com/ /mundo/venezuela', 'https://www.eltiempo.com/ /foros-el-tiempo', 'https://www.eltiempo.com/ /cultura/musica-y-libros', 'https://www.eltiempo.com/ /bogota', 'https://www.eltiempo.com/ /politica/gobierno', 'https://www.eltiempo.com/ /tecnosfera/novedades-tecnologia', 'https://www.eltiempo.com/ /justicia/cortes', 'https://www.eltiempo.com/ /salud', 'https://www.eltiempo.com/ /cultura/gente', 'https://www.eltiempo.com/ /colombia/otras-ciudades', 'https://www.eltiempo.com/ /politica', 'https://www.eltiempo.com/ /colombia/otras-ciudades']\n"
          ],
          "name": "stdout"
        }
      ]
    },
    {
      "cell_type": "code",
      "metadata": {
        "id": "FTJMWbQr4wzv",
        "colab_type": "code",
        "colab": {}
      },
      "source": [
        "import pandas as pd \n",
        "noticiasElTiempo = pd.DataFrame(dictNoticias)\n",
        "noticiasElTiempo\n",
        "\n",
        "noticiasElTiempo.to_csv('noticias.csv', index=False)"
      ],
      "execution_count": 29,
      "outputs": []
    }
  ]
}