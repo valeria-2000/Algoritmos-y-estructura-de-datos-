{
  "nbformat": 4,
  "nbformat_minor": 0,
  "metadata": {
    "colab": {
      "name": "Parcial.ipynb",
      "provenance": []
    },
    "kernelspec": {
      "name": "python3",
      "display_name": "Python 3"
    }
  },
  "cells": [
    {
      "cell_type": "markdown",
      "metadata": {
        "id": "eGphZVBbFTYH"
      },
      "source": [
        "PUNTO 1"
      ]
    },
    {
      "cell_type": "code",
      "metadata": {
        "id": "JGc1Y7CWDUDM",
        "outputId": "bd4107cf-635d-44c4-80bb-947a4a7f3971",
        "colab": {
          "base_uri": "https://localhost:8080/",
          "height": 85
        }
      },
      "source": [
        "import sklearn \n",
        "from sklearn.datasets import load_iris\n",
        "from sklearn.model_selection import train_test_split\n",
        "from sklearn.neighbors import KNeighborsClassifier\n",
        "iris=load_iris()\n",
        "datosEntrenamiento, datosPrueba,respuestasEntrenamiento,respuestaPrueba=train_test_split(iris['data'],iris['target'])\n",
        "\n",
        "knn1=KNeighborsClassifier(n_neighbors=4)\n",
        "knn1.fit(datosEntrenamiento,respuestasEntrenamiento)\n",
        "score1=knn1.score(datosPrueba,respuestaPrueba)*100\n",
        "\n",
        "knn2=KNeighborsClassifier(n_neighbors=8)\n",
        "knn2.fit(datosEntrenamiento,respuestasEntrenamiento)\n",
        "score2= knn2.score(datosPrueba,respuestaPrueba)*100\n",
        "\n",
        "knn3=KNeighborsClassifier(n_neighbors=12)\n",
        "knn3.fit(datosEntrenamiento,respuestasEntrenamiento)\n",
        "score3=knn3.score(datosPrueba,respuestaPrueba)*100\n",
        "\n",
        "knn4=KNeighborsClassifier(n_neighbors=16)\n",
        "knn4.fit(datosEntrenamiento,respuestasEntrenamiento)\n",
        "score4=knn4.score(datosPrueba,respuestaPrueba)*100\n",
        "\n",
        "print(score1)\n",
        "print(score2)\n",
        "print(score3)\n",
        "print(score4)\n"
      ],
      "execution_count": 26,
      "outputs": [
        {
          "output_type": "stream",
          "text": [
            "94.73684210526315\n",
            "92.10526315789474\n",
            "92.10526315789474\n",
            "94.73684210526315\n"
          ],
          "name": "stdout"
        }
      ]
    },
    {
      "cell_type": "markdown",
      "metadata": {
        "id": "RzW9JepeGq1G"
      },
      "source": [
        "ninguno de las pruebas necesitas sobre ajuste "
      ]
    },
    {
      "cell_type": "markdown",
      "metadata": {
        "id": "2myA1JEMDU3F"
      },
      "source": [
        "PUNTO 2 "
      ]
    },
    {
      "cell_type": "code",
      "metadata": {
        "id": "ohdVyLDCDV0E"
      },
      "source": [
        "from sklearn.datasets import load_iris \n",
        "from sklearn.model_selection import train_test_split \n",
        "from sklearn.tree import  DecisionTreeClassifier \n",
        "\n",
        "iris = load_iris()\n",
        "\n",
        "datosEntrenamiento, datosPrueba,respuestasEntrenamiento,respuestasPrueba=train_test_split(iris['data'],iris['target'])"
      ],
      "execution_count": 27,
      "outputs": []
    },
    {
      "cell_type": "code",
      "metadata": {
        "id": "5N1WrYYuDalL",
        "outputId": "f172cd3b-1711-4c3c-8f9e-fde573ce7774",
        "colab": {
          "base_uri": "https://localhost:8080/",
          "height": 34
        }
      },
      "source": [
        "arbol3 = DecisionTreeClassifier(max_depth=3)\n",
        "arbol3.fit(datosEntrenamiento,respuestasEntrenamiento)\n",
        "scoreTree3 = arbol3.score(datosPrueba, respuestasPrueba)*100\n",
        "print(scoreTree3)"
      ],
      "execution_count": 28,
      "outputs": [
        {
          "output_type": "stream",
          "text": [
            "94.73684210526315\n"
          ],
          "name": "stdout"
        }
      ]
    },
    {
      "cell_type": "markdown",
      "metadata": {
        "id": "NJY8DDfjG0B8"
      },
      "source": [
        "el árbol a esta profundidad (max_depth=3) lo hace mejor si lo comparamos con el (n_neighbors=8) y el ((n_neighbors=12) pero a la ahora de compararlo con (n_neighbors=4) y el (n_neighbors=16) tienen el mismo desempeño\n",
        "\n"
      ]
    },
    {
      "cell_type": "markdown",
      "metadata": {
        "id": "Q4WOaxZuDd0Z"
      },
      "source": [
        "PUNTO 3 "
      ]
    },
    {
      "cell_type": "code",
      "metadata": {
        "id": "rP2Kl7YWDfEA",
        "outputId": "e0cb21ee-0d78-4990-9c1c-338c1b0c77ae",
        "colab": {
          "base_uri": "https://localhost:8080/",
          "height": 34
        }
      },
      "source": [
        "import sklearn\n",
        "from sklearn.model_selection import train_test_split\n",
        "from sklearn.datasets import  load_iris\n",
        "from sklearn.neural_network import  MLPClassifier\n",
        "iris = load_iris()\n",
        "caracteristicas = iris.data\n",
        "objetivos = iris.target\n",
        "\n",
        "dataTrain, dataTest, targetTrain,targetTest = train_test_split(caracteristicas,objetivos)\n",
        "\n",
        "redNeuronal = MLPClassifier(max_iter=3000, hidden_layer_sizes=[25,25])\n",
        "redNeuronal.fit(dataTrain,targetTrain)\n",
        "scoreRed1 = redNeuronal.score(dataTest,targetTest)*100\n",
        "print (scoreRed1)\n"
      ],
      "execution_count": 42,
      "outputs": [
        {
          "output_type": "stream",
          "text": [
            "97.36842105263158\n"
          ],
          "name": "stdout"
        }
      ]
    },
    {
      "cell_type": "code",
      "metadata": {
        "id": "84ppXL77Eme0",
        "outputId": "37828cfe-8320-47a5-f107-3cb131ae4f42",
        "colab": {
          "base_uri": "https://localhost:8080/",
          "height": 34
        }
      },
      "source": [
        "redNeuronal = MLPClassifier(max_iter=3000, hidden_layer_sizes=[82,82])\n",
        "redNeuronal.fit(dataTrain,targetTrain)\n",
        "scoreRed2 = redNeuronal.score(dataTest,targetTest)*100\n",
        "print (scoreRed2)"
      ],
      "execution_count": 40,
      "outputs": [
        {
          "output_type": "stream",
          "text": [
            "94.73684210526315\n"
          ],
          "name": "stdout"
        }
      ]
    },
    {
      "cell_type": "code",
      "metadata": {
        "id": "UGsRIGSMEtVw",
        "outputId": "040e304e-ad50-4174-bb90-635af13bbb8d",
        "colab": {
          "base_uri": "https://localhost:8080/",
          "height": 34
        }
      },
      "source": [
        "redNeuronal = MLPClassifier(max_iter=3000, hidden_layer_sizes=[30,30])\n",
        "redNeuronal.fit(dataTrain,targetTrain)\n",
        "scoreRed3 = redNeuronal.score(dataTest,targetTest)*100\n",
        "print (scoreRed3)"
      ],
      "execution_count": 41,
      "outputs": [
        {
          "output_type": "stream",
          "text": [
            "94.73684210526315\n"
          ],
          "name": "stdout"
        }
      ]
    },
    {
      "cell_type": "markdown",
      "metadata": {
        "id": "oTiEFMW7IS3h"
      },
      "source": [
        "PUNTO 4\n"
      ]
    },
    {
      "cell_type": "code",
      "metadata": {
        "id": "6hsLKGWyIXME",
        "outputId": "add3f6db-9503-40c8-fc65-dca5ebb683c3",
        "colab": {
          "base_uri": "https://localhost:8080/",
          "height": 349
        }
      },
      "source": [
        "score= [score1,score2,score3,score4,scoreTree3,scoreRed1,scoreRed2,scoreRed3]\n",
        "print(score)\n",
        "import matplotlib.pyplot as plt\n",
        "vecinos= [\"N4\",\"N8\", \"N12\", \"N16\",\"P3\",\"RN25\",\"RN82\", \"RN30\"]\n",
        "plt.bar(vecinos,score)\n",
        "plt.ylabel(\"Porcentaje\")\n",
        "plt.xlabel(\"Parametros\")\n",
        "plt.title(\"Comparacion clasificadores\")\n",
        "plt.show()\n",
        "plt.savefig(\"Grafico.png\")"
      ],
      "execution_count": 48,
      "outputs": [
        {
          "output_type": "stream",
          "text": [
            "[94.73684210526315, 92.10526315789474, 92.10526315789474, 94.73684210526315, 94.73684210526315, 97.36842105263158, 94.73684210526315, 94.73684210526315]\n"
          ],
          "name": "stdout"
        },
        {
          "output_type": "display_data",
          "data": {
            "image/png": "[encoded data removed]",
            "text/plain": [
              "<Figure size 432x288 with 1 Axes>"
            ]
          },
          "metadata": {
            "tags": [],
            "needs_background": "light"
          }
        },
        {
          "output_type": "display_data",
          "data": {
            "text/plain": [
              "<Figure size 432x288 with 0 Axes>"
            ]
          },
          "metadata": {
            "tags": []
          }
        }
      ]
    },
    {
      "cell_type": "markdown",
      "metadata": {
        "id": "inX5H4w1KGPV"
      },
      "source": [
        "PUNTO 5"
      ]
    },
    {
      "cell_type": "code",
      "metadata": {
        "id": "yanoWWlqKIMw",
        "outputId": "25d118e9-c238-44a4-9e90-99fe18b9530b",
        "colab": {
          "base_uri": "https://localhost:8080/",
          "height": 88
        }
      },
      "source": [
        "from sklearn.datasets import load_iris \n",
        "from sklearn.model_selection import train_test_split \n",
        "from sklearn.linear_model import SGDClassifier\n",
        "iris = load_iris()\n",
        "\n",
        "datosEntrenamiento, datosPrueba,respuestasEntrenamiento,respuestasPrueba=train_test_split(iris['data'],iris['target'])\n",
        "\n",
        "clf = SGDClassifier(loss=\"hinge\", penalty=\"l2\", max_iter=5)\n",
        "\n",
        "clf.fit(datosEntrenamiento,respuestasEntrenamiento)\n",
        "scoreClf = clf.score(datosPrueba, respuestasPrueba)*100\n",
        "print(scoreClf)\n",
        "\n"
      ],
      "execution_count": 1,
      "outputs": [
        {
          "output_type": "stream",
          "text": [
            "63.1578947368421\n"
          ],
          "name": "stdout"
        },
        {
          "output_type": "stream",
          "text": [
            "/usr/local/lib/python3.6/dist-packages/sklearn/linear_model/_stochastic_gradient.py:557: ConvergenceWarning: Maximum number of iteration reached before convergence. Consider increasing max_iter to improve the fit.\n",
            "  ConvergenceWarning)\n"
          ],
          "name": "stderr"
        }
      ]
    }
  ]
}