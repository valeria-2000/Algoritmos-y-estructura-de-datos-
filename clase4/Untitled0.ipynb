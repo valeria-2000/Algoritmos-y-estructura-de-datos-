{
  "nbformat": 4,
  "nbformat_minor": 0,
  "metadata": {
    "colab": {
      "name": "Untitled0.ipynb",
      "provenance": []
    },
    "kernelspec": {
      "name": "python3",
      "display_name": "Python 3"
    }
  },
  "cells": [
    {
      "cell_type": "code",
      "metadata": {
        "id": "DgfHu-Pcu6qr",
        "colab_type": "code",
        "colab": {}
      },
      "source": [
        "import pandas as pd"
      ],
      "execution_count": 3,
      "outputs": []
    },
    {
      "cell_type": "code",
      "metadata": {
        "id": "rn5uBsnVu-4j",
        "colab_type": "code",
        "colab": {
          "base_uri": "https://localhost:8080/",
          "height": 204
        },
        "outputId": "8ff000fa-91be-4ed9-c1b6-c7be1939159f"
      },
      "source": [
        "business_results =pd.Series({'arroz':4200,\n",
        "                  'lentejas':4800,\n",
        "                  'milo':5400,\n",
        "                  'galletas':2200,\n",
        "                  'papas':1300,\n",
        "                  'mantequilla' :2500,\n",
        "                  'frijol':5000,\n",
        "                  'carne' :7000,\n",
        "                  'costilla': 1000,\n",
        "                  'pasta':6800})\n",
        "print(business_results)"
      ],
      "execution_count": 4,
      "outputs": [
        {
          "output_type": "stream",
          "text": [
            "arroz          4200\n",
            "lentejas       4800\n",
            "milo           5400\n",
            "galletas       2200\n",
            "papas          1300\n",
            "mantequilla    2500\n",
            "frijol         5000\n",
            "carne          7000\n",
            "costilla       1000\n",
            "pasta          6800\n",
            "dtype: int64\n"
          ],
          "name": "stdout"
        }
      ]
    },
    {
      "cell_type": "code",
      "metadata": {
        "id": "snurH_Fiv7Pv",
        "colab_type": "code",
        "colab": {
          "base_uri": "https://localhost:8080/",
          "height": 173
        },
        "outputId": "81ac5fca-0cfb-49af-ce45-0b420cd09de7"
      },
      "source": [
        "business_results_frame= pd.DataFrame({'enero':[2000,1000,1200,6899],\n",
        "                  'febrero':[2300,1200,1300,8000],\n",
        "                  'marzo':[2400,1600,1400,6700],\n",
        "                  'abril':[1000,600,600,2400]},index=['arroz ','carne','frijol','milo'])\n",
        "business_results_frame"
      ],
      "execution_count": 10,
      "outputs": [
        {
          "output_type": "execute_result",
          "data": {
            "text/html": [
              "<div>\n",
              "<style scoped>\n",
              "    .dataframe tbody tr th:only-of-type {\n",
              "        vertical-align: middle;\n",
              "    }\n",
              "\n",
              "    .dataframe tbody tr th {\n",
              "        vertical-align: top;\n",
              "    }\n",
              "\n",
              "    .dataframe thead th {\n",
              "        text-align: right;\n",
              "    }\n",
              "</style>\n",
              "<table border=\"1\" class=\"dataframe\">\n",
              "  <thead>\n",
              "    <tr style=\"text-align: right;\">\n",
              "      <th></th>\n",
              "      <th>enero</th>\n",
              "      <th>febrero</th>\n",
              "      <th>marzo</th>\n",
              "      <th>abril</th>\n",
              "    </tr>\n",
              "  </thead>\n",
              "  <tbody>\n",
              "    <tr>\n",
              "      <th>arroz</th>\n",
              "      <td>2000</td>\n",
              "      <td>2300</td>\n",
              "      <td>2400</td>\n",
              "      <td>1000</td>\n",
              "    </tr>\n",
              "    <tr>\n",
              "      <th>carne</th>\n",
              "      <td>1000</td>\n",
              "      <td>1200</td>\n",
              "      <td>1600</td>\n",
              "      <td>600</td>\n",
              "    </tr>\n",
              "    <tr>\n",
              "      <th>frijol</th>\n",
              "      <td>1200</td>\n",
              "      <td>1300</td>\n",
              "      <td>1400</td>\n",
              "      <td>600</td>\n",
              "    </tr>\n",
              "    <tr>\n",
              "      <th>milo</th>\n",
              "      <td>6899</td>\n",
              "      <td>8000</td>\n",
              "      <td>6700</td>\n",
              "      <td>2400</td>\n",
              "    </tr>\n",
              "  </tbody>\n",
              "</table>\n",
              "</div>"
            ],
            "text/plain": [
              "        enero  febrero  marzo  abril\n",
              "arroz    2000     2300   2400   1000\n",
              "carne    1000     1200   1600    600\n",
              "frijol   1200     1300   1400    600\n",
              "milo     6899     8000   6700   2400"
            ]
          },
          "metadata": {
            "tags": []
          },
          "execution_count": 10
        }
      ]
    },
    {
      "cell_type": "code",
      "metadata": {
        "id": "rduaTg1_y7zj",
        "colab_type": "code",
        "colab": {
          "base_uri": "https://localhost:8080/",
          "height": 102
        },
        "outputId": "648d927d-57c0-493f-c87b-801e81cb6b4f"
      },
      "source": [
        "business_results_frame['abril']"
      ],
      "execution_count": 14,
      "outputs": [
        {
          "output_type": "execute_result",
          "data": {
            "text/plain": [
              "arroz     1000\n",
              "carne      600\n",
              "frijol     600\n",
              "milo      2400\n",
              "Name: abril, dtype: int64"
            ]
          },
          "metadata": {
            "tags": []
          },
          "execution_count": 14
        }
      ]
    },
    {
      "cell_type": "code",
      "metadata": {
        "id": "d8vhgf4mziKQ",
        "colab_type": "code",
        "colab": {
          "base_uri": "https://localhost:8080/",
          "height": 173
        },
        "outputId": "1a470dad-9612-48ed-d159-46ec06e9ca0b"
      },
      "source": [
        "business_results_frame[['febrero','marzo']]"
      ],
      "execution_count": 16,
      "outputs": [
        {
          "output_type": "execute_result",
          "data": {
            "text/html": [
              "<div>\n",
              "<style scoped>\n",
              "    .dataframe tbody tr th:only-of-type {\n",
              "        vertical-align: middle;\n",
              "    }\n",
              "\n",
              "    .dataframe tbody tr th {\n",
              "        vertical-align: top;\n",
              "    }\n",
              "\n",
              "    .dataframe thead th {\n",
              "        text-align: right;\n",
              "    }\n",
              "</style>\n",
              "<table border=\"1\" class=\"dataframe\">\n",
              "  <thead>\n",
              "    <tr style=\"text-align: right;\">\n",
              "      <th></th>\n",
              "      <th>febrero</th>\n",
              "      <th>marzo</th>\n",
              "    </tr>\n",
              "  </thead>\n",
              "  <tbody>\n",
              "    <tr>\n",
              "      <th>arroz</th>\n",
              "      <td>2300</td>\n",
              "      <td>2400</td>\n",
              "    </tr>\n",
              "    <tr>\n",
              "      <th>carne</th>\n",
              "      <td>1200</td>\n",
              "      <td>1600</td>\n",
              "    </tr>\n",
              "    <tr>\n",
              "      <th>frijol</th>\n",
              "      <td>1300</td>\n",
              "      <td>1400</td>\n",
              "    </tr>\n",
              "    <tr>\n",
              "      <th>milo</th>\n",
              "      <td>8000</td>\n",
              "      <td>6700</td>\n",
              "    </tr>\n",
              "  </tbody>\n",
              "</table>\n",
              "</div>"
            ],
            "text/plain": [
              "        febrero  marzo\n",
              "arroz      2300   2400\n",
              "carne      1200   1600\n",
              "frijol     1300   1400\n",
              "milo       8000   6700"
            ]
          },
          "metadata": {
            "tags": []
          },
          "execution_count": 16
        }
      ]
    }
  ]
}