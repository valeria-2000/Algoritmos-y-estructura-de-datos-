{
  "nbformat": 4,
  "nbformat_minor": 0,
  "metadata": {
    "colab": {
      "name": "Untitled10.ipynb",
      "provenance": [],
      "collapsed_sections": []
    },
    "kernelspec": {
      "name": "python3",
      "display_name": "Python 3"
    }
  },
  "cells": [
    {
      "cell_type": "code",
      "metadata": {
        "id": "CpzQRWkxuRJ8",
        "colab_type": "code",
        "colab": {
          "base_uri": "https://localhost:8080/",
          "height": 34
        },
        "outputId": "c01f977b-23ad-4934-f726-cf2f59d2197d"
      },
      "source": [
        "import requests \n",
        "url = 'https://celulares.mercadolibre.com.co/_PriceRange_0-499900#DEAL_ID=MCO1143&S=landingHubcelulares-y-telefonos&V=1&T=Card-primary-withoutDiscount&L=$499.900&deal_print_id=e7a84ac0-fcf3-11ea-b854-774143bfd60a'\n",
        "response = requests.get (url)\n",
        "print (response)"
      ],
      "execution_count": 88,
      "outputs": [
        {
          "output_type": "stream",
          "text": [
            "<Response [200]>\n"
          ],
          "name": "stdout"
        }
      ]
    },
    {
      "cell_type": "code",
      "metadata": {
        "id": "nalcnzvjvD4E",
        "colab_type": "code",
        "colab": {
          "base_uri": "https://localhost:8080/",
          "height": 105
        },
        "outputId": "d6bc86e5-5c7c-468b-91f4-7ee5da7c3408"
      },
      "source": [
        "import bs4\n",
        "parseo = bs4.BeautifulSoup (response.text, 'html.parser')\n",
        "getDataSelect = lambda clase : parseo.select(clase)\n",
        "dataTitle = parseo.select ('.ui-search-item__title')\n",
        "dataPrice = getDataSelect('.price-tag-fraction')\n",
        "print (dataTitle)\n",
        "print (dataPrice)\n",
        "elementosCelular = []\n",
        "funcionExtraerTexto = lambda elemento : elemento.text\n",
        "funcionListaDatos = lambda funcion, data :  list (map (funcion,data))\n",
        "elementosCelular = funcionListaDatos(funcionExtraerTexto, dataTitle)\n",
        "print (elementosCelular)\n",
        "\n",
        "listaPrecios = funcionListaDatos(funcionExtraerTexto, dataPrice)\n",
        "print (listaPrecios)"
      ],
      "execution_count": 89,
      "outputs": [
        {
          "output_type": "stream",
          "text": [
            "[<h2 class=\"ui-search-item__title\">Celular Motorola Moto One Macro</h2>, <h2 class=\"ui-search-item__title\">Celular Libre Panasonic Gd100s Radio Fm Linterna Dual Sim 2g</h2>, <h2 class=\"ui-search-item__title\">Celular 4g 3gb/32gb/128gb Sd Dual Sim Neffos C9</h2>, <h2 class=\"ui-search-item__title\">Motorola Moto G8 Play 4g</h2>, <h2 class=\"ui-search-item__title\">Celular Nokia 106 </h2>, <h2 class=\"ui-search-item__title\">Celular Huawei Honor 10 Lite 32gb 24mp Huella 4g Lte </h2>, <h2 class=\"ui-search-item__title\">Celular Adulto Mayor Abuelos Discapacitados Tecla Emergencia</h2>, <h2 class=\"ui-search-item__title\">Celular Caterpillar Cat B26  Resistente Polvo / Agua Ip68</h2>, <h2 class=\"ui-search-item__title\">Máquina Para Blindar Celulares, Blindaje De Celulares</h2>, <h2 class=\"ui-search-item__title\">Celular Motorola Moto E6 Play 32gb 2 Ram Lector Huella 4g</h2>, <h2 class=\"ui-search-item__title\">Celular Flecha Panasonic Radio Fm Linterna Dual Sim Memoria </h2>, <h2 class=\"ui-search-item__title\">Celular Libre Xiaomi Redmi 8a 32gb Bateria 5000mah 12mp 4g</h2>, <h2 class=\"ui-search-item__title\">Celular Libre Xiaomi Redmi 9a 32gb 5000mah</h2>, <h2 class=\"ui-search-item__title\">Celular Zte L8, 1gb/16gb, 5mpx/8mpx, Android Pie </h2>, <h2 class=\"ui-search-item__title\">Celular Libre Xiaomi Redmi 7a 32gb 4g Lte </h2>, <h2 class=\"ui-search-item__title\">Celular Cat Hf5d Modelo A8 Dual Sim 100% Nuevo </h2>, <h2 class=\"ui-search-item__title\">Celular Motorola E6 Play Libre  32gb/2ram</h2>, <h2 class=\"ui-search-item__title\">Celular Adulto Mayor Abuelos Discapacidad  Teclas Emergencia</h2>, <h2 class=\"ui-search-item__title\">Celular Caterpillar Cat B26 Dual Sim Resistente A Todo </h2>, <h2 class=\"ui-search-item__title\">Caja Desinfeccion Uv Celular Reloj Tapabocas Virus Bacterias</h2>, <h2 class=\"ui-search-item__title\">Celular Libre Ipro Shark Ip67 3mp Res Agua Y Golpes Dual Sim</h2>, <h2 class=\"ui-search-item__title\">Xiaomi Redmi 8a 2gb/32gb 12mpx/8mpx 5000 Mah</h2>, <h2 class=\"ui-search-item__title\">Celular Neffos N105, Dual Sim, Cámara, Radio Fm, Linterna</h2>, <h2 class=\"ui-search-item__title\">Celular Huawei Y5 2018 16gb</h2>, <h2 class=\"ui-search-item__title\">Celular Caterpillar Cat B26 Dual Sim Resistente Golpes Agua</h2>, <h2 class=\"ui-search-item__title\">Celular Slider S8 Ipro Camara Radio Memoria Fm</h2>, <h2 class=\"ui-search-item__title\">Ultra-lipo Quemador De Grasa</h2>, <h2 class=\"ui-search-item__title\">Celular Moto E6 Play --32 Gb//2 Gb Ram Lector De Huella</h2>, <h2 class=\"ui-search-item__title\">Celular Movic Héro 7 Android 8.1 Huella Digital/envío Gratis</h2>, <h2 class=\"ui-search-item__title\">Celular Barato Unonu J8 Nuevo Multifuncional- Garantizado </h2>, <h2 class=\"ui-search-item__title\">Celular Blu J6 Huella 6.0  Quad Core 2.800 Mah Android 8.1</h2>, <h2 class=\"ui-search-item__title\">Samsung Galaxy J2 Core Android Oreo Dual Sim 4g Lte</h2>, <h2 class=\"ui-search-item__title\">Celular Libre Ipro V7 Dual Sim Tapita 3mpx Flash Blueto</h2>, <h2 class=\"ui-search-item__title\">Celular Nokia 106 - 4mb Gris</h2>, <h2 class=\"ui-search-item__title\">Celular Caterpillar Cat B26  Resistente Polvo / Agua Ip68</h2>, <h2 class=\"ui-search-item__title\">Celular  Unonu J8 Nuevo Doble Sim, Camara Con Flash Y Radio </h2>, <h2 class=\"ui-search-item__title\">Celular Blu Joy Sos 3g Botón De Emerg. Memoria128mb 64mb Ram</h2>, <h2 class=\"ui-search-item__title\">Celular Blu Advance L5 4  16gb+512ram Android8.1 Cámara5+2mp</h2>, <h2 class=\"ui-search-item__title\">Celular Rompe Muros 2020</h2>, <h2 class=\"ui-search-item__title\">Celular Tecno Spark 5 Air 32gb+2gb</h2>, <h2 class=\"ui-search-item__title\">Celular Nokia 106</h2>, <h2 class=\"ui-search-item__title\">Celular Z5 1.8  Cámara Vga Bluetooth V2.1 Radio Fm</h2>, <h2 class=\"ui-search-item__title\">Celular Neffos C9a 5.45'' Desbloqueo Facial, Huella + Regalo</h2>, <h2 class=\"ui-search-item__title\">Celular Caterpillar Cat B26  Resistente Polvo/ Agua Ip68/fm</h2>, <h2 class=\"ui-search-item__title\"> Huawei Y6 2019 4g</h2>, <h2 class=\"ui-search-item__title\">Celular Zte Blade L130 3g, 8gb, 5 Mpx, Android Go</h2>, <h2 class=\"ui-search-item__title\">Alcachofa + Cafeina Armesso Inyectable Quema Grasa Ampollas</h2>, <h2 class=\"ui-search-item__title\">Celular Smartphone Libre Alcatel 1 Trasmision De Datos 4g</h2>, <h2 class=\"ui-search-item__title\">Cargador Apple iPhone + Cable 5s 6 7 8 X Xr Xs Max</h2>, <h2 class=\"ui-search-item__title\">Celular Unonu J8 Doble Sim Memoria Bluetooth Camara Barato </h2>, <h2 class=\"ui-search-item__title\">Celular  Tipo Nokia 106</h2>, <h2 class=\"ui-search-item__title\">Moto E6 Play Negro 32gb- Lector Huella</h2>, <h2 class=\"ui-search-item__title\">Zte Blade A3 Lite Económico 32gb Chip De Tigo Dual Sim </h2>, <h2 class=\"ui-search-item__title\">Telefono Blu Advance L5 Android 8.1 8gb Memoria Dual Sim</h2>]\n",
            "[<span class=\"price-tag-fraction\">999.900</span>, <span class=\"price-tag-fraction\">499.900</span>, <span class=\"price-tag-fraction\">13.886</span>, <span class=\"price-tag-fraction\">79.900</span>, <span class=\"price-tag-fraction\">44.900</span>, <span class=\"price-tag-fraction\">1.247</span>, <span class=\"price-tag-fraction\">469.900</span>, <span class=\"price-tag-fraction\">369.900</span>, <span class=\"price-tag-fraction\">10.275</span>, <span class=\"price-tag-fraction\">499.900</span>, <span class=\"price-tag-fraction\">13.886</span>, <span class=\"price-tag-fraction\">95.900</span>, <span class=\"price-tag-fraction\">2.664</span>, <span class=\"price-tag-fraction\">699.900</span>, <span class=\"price-tag-fraction\">479.900</span>, <span class=\"price-tag-fraction\">39.992</span>, <span class=\"price-tag-fraction\">234.000</span>, <span class=\"price-tag-fraction\">19.500</span>, <span class=\"price-tag-fraction\">284.000</span>, <span class=\"price-tag-fraction\">23.667</span>, <span class=\"price-tag-fraction\">149.900</span>, <span class=\"price-tag-fraction\">4.164</span>, <span class=\"price-tag-fraction\">399.900</span>, <span class=\"price-tag-fraction\">11.108</span>, <span class=\"price-tag-fraction\">79.900</span>, <span class=\"price-tag-fraction\">44.900</span>, <span class=\"price-tag-fraction\">1.247</span>, <span class=\"price-tag-fraction\">699.900</span>, <span class=\"price-tag-fraction\">449.900</span>, <span class=\"price-tag-fraction\">12.497</span>, <span class=\"price-tag-fraction\">649.900</span>, <span class=\"price-tag-fraction\">449.900</span>, <span class=\"price-tag-fraction\">12.497</span>, <span class=\"price-tag-fraction\">209.900</span>, <span class=\"price-tag-fraction\">5.831</span>, <span class=\"price-tag-fraction\">599.900</span>, <span class=\"price-tag-fraction\">449.900</span>, <span class=\"price-tag-fraction\">12.497</span>, <span class=\"price-tag-fraction\">160.000</span>, <span class=\"price-tag-fraction\">13.333</span>, <span class=\"price-tag-fraction\">409.990</span>, <span class=\"price-tag-fraction\">11.389</span>, <span class=\"price-tag-fraction\">279.000</span>, <span class=\"price-tag-fraction\">23.250</span>, <span class=\"price-tag-fraction\">279.000</span>, <span class=\"price-tag-fraction\">7.750</span>, <span class=\"price-tag-fraction\">156.800</span>, <span class=\"price-tag-fraction\">13.067</span>, <span class=\"price-tag-fraction\">102.900</span>, <span class=\"price-tag-fraction\">2.858</span>, <span class=\"price-tag-fraction\">464.900</span>, <span class=\"price-tag-fraction\">12.914</span>, <span class=\"price-tag-fraction\">67.999</span>, <span class=\"price-tag-fraction\">50.000</span>, <span class=\"price-tag-fraction\">1.389</span>, <span class=\"price-tag-fraction\">359.900</span>, <span class=\"price-tag-fraction\">329.900</span>, <span class=\"price-tag-fraction\">9.164</span>, <span class=\"price-tag-fraction\">268.900</span>, <span class=\"price-tag-fraction\">7.469</span>, <span class=\"price-tag-fraction\">74.900</span>, <span class=\"price-tag-fraction\">2.081</span>, <span class=\"price-tag-fraction\">96.900</span>, <span class=\"price-tag-fraction\">2.692</span>, <span class=\"price-tag-fraction\">409.900</span>, <span class=\"price-tag-fraction\">11.386</span>, <span class=\"price-tag-fraction\">295.000</span>, <span class=\"price-tag-fraction\">8.194</span>, <span class=\"price-tag-fraction\">45.000</span>, <span class=\"price-tag-fraction\">3.750</span>, <span class=\"price-tag-fraction\">322.990</span>, <span class=\"price-tag-fraction\">8.972</span>, <span class=\"price-tag-fraction\">359.900</span>, <span class=\"price-tag-fraction\">9.997</span>, <span class=\"price-tag-fraction\">71.900</span>, <span class=\"price-tag-fraction\">1.997</span>, <span class=\"price-tag-fraction\">73.395</span>, <span class=\"price-tag-fraction\">2.039</span>, <span class=\"price-tag-fraction\">284.000</span>, <span class=\"price-tag-fraction\">23.667</span>, <span class=\"price-tag-fraction\">35.990</span>, <span class=\"price-tag-fraction\">2.999</span>, <span class=\"price-tag-fraction\">119.990</span>, <span class=\"price-tag-fraction\">9.999</span>, <span class=\"price-tag-fraction\">159.990</span>, <span class=\"price-tag-fraction\">13.332</span>, <span class=\"price-tag-fraction\">135.900</span>, <span class=\"price-tag-fraction\">3.775</span>, <span class=\"price-tag-fraction\">592.714</span>, <span class=\"price-tag-fraction\">414.900</span>, <span class=\"price-tag-fraction\">11.525</span>, <span class=\"price-tag-fraction\">94.990</span>, <span class=\"price-tag-fraction\">2.639</span>, <span class=\"price-tag-fraction\">43.990</span>, <span class=\"price-tag-fraction\">1.222</span>, <span class=\"price-tag-fraction\">349.900</span>, <span class=\"price-tag-fraction\">9.719</span>, <span class=\"price-tag-fraction\">289.900</span>, <span class=\"price-tag-fraction\">8.053</span>, <span class=\"price-tag-fraction\">469.900</span>, <span class=\"price-tag-fraction\">13.053</span>, <span class=\"price-tag-fraction\">159.900</span>, <span class=\"price-tag-fraction\">4.442</span>, <span class=\"price-tag-fraction\">59.900</span>, <span class=\"price-tag-fraction\">1.664</span>, <span class=\"price-tag-fraction\">204.900</span>, <span class=\"price-tag-fraction\">17.075</span>, <span class=\"price-tag-fraction\">20.000</span>, <span class=\"price-tag-fraction\">555</span>, <span class=\"price-tag-fraction\">45.000</span>, <span class=\"price-tag-fraction\">3.750</span>, <span class=\"price-tag-fraction\">96.900</span>, <span class=\"price-tag-fraction\">2.692</span>, <span class=\"price-tag-fraction\">399.900</span>, <span class=\"price-tag-fraction\">11.108</span>, <span class=\"price-tag-fraction\">228.000</span>, <span class=\"price-tag-fraction\">6.333</span>, <span class=\"price-tag-fraction\">159.900</span>, <span class=\"price-tag-fraction\">13.325</span>]\n",
            "['Celular Motorola Moto One Macro', 'Celular Libre Panasonic Gd100s Radio Fm Linterna Dual Sim 2g', 'Celular 4g 3gb/32gb/128gb Sd Dual Sim Neffos C9', 'Motorola Moto G8 Play 4g', 'Celular Nokia 106 ', 'Celular Huawei Honor 10 Lite 32gb 24mp Huella 4g Lte ', 'Celular Adulto Mayor Abuelos Discapacitados Tecla Emergencia', 'Celular Caterpillar Cat B26  Resistente Polvo / Agua Ip68', 'Máquina Para Blindar Celulares, Blindaje De Celulares', 'Celular Motorola Moto E6 Play 32gb 2 Ram Lector Huella 4g', 'Celular Flecha Panasonic Radio Fm Linterna Dual Sim Memoria ', 'Celular Libre Xiaomi Redmi 8a 32gb Bateria 5000mah 12mp 4g', 'Celular Libre Xiaomi Redmi 9a 32gb 5000mah', 'Celular Zte L8, 1gb/16gb, 5mpx/8mpx, Android Pie ', 'Celular Libre Xiaomi Redmi 7a 32gb 4g Lte ', 'Celular Cat Hf5d Modelo A8 Dual Sim 100% Nuevo ', 'Celular Motorola E6 Play Libre  32gb/2ram', 'Celular Adulto Mayor Abuelos Discapacidad  Teclas Emergencia', 'Celular Caterpillar Cat B26 Dual Sim Resistente A Todo ', 'Caja Desinfeccion Uv Celular Reloj Tapabocas Virus Bacterias', 'Celular Libre Ipro Shark Ip67 3mp Res Agua Y Golpes Dual Sim', 'Xiaomi Redmi 8a 2gb/32gb 12mpx/8mpx 5000 Mah', 'Celular Neffos N105, Dual Sim, Cámara, Radio Fm, Linterna', 'Celular Huawei Y5 2018 16gb', 'Celular Caterpillar Cat B26 Dual Sim Resistente Golpes Agua', 'Celular Slider S8 Ipro Camara Radio Memoria Fm', 'Ultra-lipo Quemador De Grasa', 'Celular Moto E6 Play --32 Gb//2 Gb Ram Lector De Huella', 'Celular Movic Héro 7 Android 8.1 Huella Digital/envío Gratis', 'Celular Barato Unonu J8 Nuevo Multifuncional- Garantizado ', 'Celular Blu J6 Huella 6.0  Quad Core 2.800 Mah Android 8.1', 'Samsung Galaxy J2 Core Android Oreo Dual Sim 4g Lte', 'Celular Libre Ipro V7 Dual Sim Tapita 3mpx Flash Blueto', 'Celular Nokia 106 - 4mb Gris', 'Celular Caterpillar Cat B26  Resistente Polvo / Agua Ip68', 'Celular  Unonu J8 Nuevo Doble Sim, Camara Con Flash Y Radio ', 'Celular Blu Joy Sos 3g Botón De Emerg. Memoria128mb 64mb Ram', 'Celular Blu Advance L5 4  16gb+512ram Android8.1 Cámara5+2mp', 'Celular Rompe Muros 2020', 'Celular Tecno Spark 5 Air 32gb+2gb', 'Celular Nokia 106', 'Celular Z5 1.8  Cámara Vga Bluetooth V2.1 Radio Fm', \"Celular Neffos C9a 5.45'' Desbloqueo Facial, Huella + Regalo\", 'Celular Caterpillar Cat B26  Resistente Polvo/ Agua Ip68/fm', ' Huawei Y6 2019 4g', 'Celular Zte Blade L130 3g, 8gb, 5 Mpx, Android Go', 'Alcachofa + Cafeina Armesso Inyectable Quema Grasa Ampollas', 'Celular Smartphone Libre Alcatel 1 Trasmision De Datos 4g', 'Cargador Apple iPhone + Cable 5s 6 7 8 X Xr Xs Max', 'Celular Unonu J8 Doble Sim Memoria Bluetooth Camara Barato ', 'Celular  Tipo Nokia 106', 'Moto E6 Play Negro 32gb- Lector Huella', 'Zte Blade A3 Lite Económico 32gb Chip De Tigo Dual Sim ', 'Telefono Blu Advance L5 Android 8.1 8gb Memoria Dual Sim']\n",
            "['999.900', '499.900', '13.886', '79.900', '44.900', '1.247', '469.900', '369.900', '10.275', '499.900', '13.886', '95.900', '2.664', '699.900', '479.900', '39.992', '234.000', '19.500', '284.000', '23.667', '149.900', '4.164', '399.900', '11.108', '79.900', '44.900', '1.247', '699.900', '449.900', '12.497', '649.900', '449.900', '12.497', '209.900', '5.831', '599.900', '449.900', '12.497', '160.000', '13.333', '409.990', '11.389', '279.000', '23.250', '279.000', '7.750', '156.800', '13.067', '102.900', '2.858', '464.900', '12.914', '67.999', '50.000', '1.389', '359.900', '329.900', '9.164', '268.900', '7.469', '74.900', '2.081', '96.900', '2.692', '409.900', '11.386', '295.000', '8.194', '45.000', '3.750', '322.990', '8.972', '359.900', '9.997', '71.900', '1.997', '73.395', '2.039', '284.000', '23.667', '35.990', '2.999', '119.990', '9.999', '159.990', '13.332', '135.900', '3.775', '592.714', '414.900', '11.525', '94.990', '2.639', '43.990', '1.222', '349.900', '9.719', '289.900', '8.053', '469.900', '13.053', '159.900', '4.442', '59.900', '1.664', '204.900', '17.075', '20.000', '555', '45.000', '3.750', '96.900', '2.692', '399.900', '11.108', '228.000', '6.333', '159.900', '13.325']\n"
          ],
          "name": "stdout"
        }
      ]
    },
    {
      "cell_type": "code",
      "metadata": {
        "id": "CJHUelCOvRV-",
        "colab_type": "code",
        "colab": {
          "base_uri": "https://localhost:8080/",
          "height": 68
        },
        "outputId": "f3fbd0dc-430c-48aa-c788-d594a85aa1cf"
      },
      "source": [
        "print(len(elementosCelular))\n",
        "print(len(listaPrecios))\n",
        "listaPrecios = listaPrecios[:54]\n",
        "print(len(listaPrecios))\n",
        "\n"
      ],
      "execution_count": 99,
      "outputs": [
        {
          "output_type": "stream",
          "text": [
            "54\n",
            "54\n",
            "54\n"
          ],
          "name": "stdout"
        }
      ]
    },
    {
      "cell_type": "code",
      "metadata": {
        "id": "WtugmgSDvpta",
        "colab_type": "code",
        "colab": {
          "base_uri": "https://localhost:8080/",
          "height": 34
        },
        "outputId": "8a64f505-12f1-4847-e70d-3f36b2659b02"
      },
      "source": [
        "import pandas as pd\n",
        "dictCelular = {}\n",
        "dictCelular['Titulos'] = elementosCelular\n",
        "print (len (elementosCelular), len (listaPrecios))\n",
        "dictCelular ['Precios'] = listaPrecios\n",
        "celularDataFrame = pd.DataFrame(dictCelular)\n",
        "celularDataFrame.to_csv('Celulares.csv', index=False)"
      ],
      "execution_count": 100,
      "outputs": [
        {
          "output_type": "stream",
          "text": [
            "54 54\n"
          ],
          "name": "stdout"
        }
      ]
    },
    {
      "cell_type": "code",
      "metadata": {
        "id": "T735bN9VwJyg",
        "colab_type": "code",
        "colab": {
          "base_uri": "https://localhost:8080/",
          "height": 71
        },
        "outputId": "26fc4bdd-9117-48bd-fb52-e92276524892"
      },
      "source": [
        "funcionAgregarCelular = lambda elemento : 'Celular: ' + elemento\n",
        "titulosCelular = list (map(funcionAgregarCelular,elementosCelular))\n",
        "print (titulosCelular)\n",
        "titulosCelular = funcionListaDatos (funcionAgregarCelular, elementosCelular)\n",
        "print (titulosCelular )\n",
        "dictCelular = {}\n",
        "dictCelular['Titulos'] = titulosCelular\n",
        "dictCelular ['Precios'] = listaPrecios\n",
        "CelularDF = pd.DataFrame(dictCelular)\n",
        "CelularDF.to_csv('CelularMod.csv', index= False) "
      ],
      "execution_count": 101,
      "outputs": [
        {
          "output_type": "stream",
          "text": [
            "['Celular: Celular Motorola Moto One Macro', 'Celular: Celular Libre Panasonic Gd100s Radio Fm Linterna Dual Sim 2g', 'Celular: Celular 4g 3gb/32gb/128gb Sd Dual Sim Neffos C9', 'Celular: Motorola Moto G8 Play 4g', 'Celular: Celular Nokia 106 ', 'Celular: Celular Huawei Honor 10 Lite 32gb 24mp Huella 4g Lte ', 'Celular: Celular Adulto Mayor Abuelos Discapacitados Tecla Emergencia', 'Celular: Celular Caterpillar Cat B26  Resistente Polvo / Agua Ip68', 'Celular: Máquina Para Blindar Celulares, Blindaje De Celulares', 'Celular: Celular Motorola Moto E6 Play 32gb 2 Ram Lector Huella 4g', 'Celular: Celular Flecha Panasonic Radio Fm Linterna Dual Sim Memoria ', 'Celular: Celular Libre Xiaomi Redmi 8a 32gb Bateria 5000mah 12mp 4g', 'Celular: Celular Libre Xiaomi Redmi 9a 32gb 5000mah', 'Celular: Celular Zte L8, 1gb/16gb, 5mpx/8mpx, Android Pie ', 'Celular: Celular Libre Xiaomi Redmi 7a 32gb 4g Lte ', 'Celular: Celular Cat Hf5d Modelo A8 Dual Sim 100% Nuevo ', 'Celular: Celular Motorola E6 Play Libre  32gb/2ram', 'Celular: Celular Adulto Mayor Abuelos Discapacidad  Teclas Emergencia', 'Celular: Celular Caterpillar Cat B26 Dual Sim Resistente A Todo ', 'Celular: Caja Desinfeccion Uv Celular Reloj Tapabocas Virus Bacterias', 'Celular: Celular Libre Ipro Shark Ip67 3mp Res Agua Y Golpes Dual Sim', 'Celular: Xiaomi Redmi 8a 2gb/32gb 12mpx/8mpx 5000 Mah', 'Celular: Celular Neffos N105, Dual Sim, Cámara, Radio Fm, Linterna', 'Celular: Celular Huawei Y5 2018 16gb', 'Celular: Celular Caterpillar Cat B26 Dual Sim Resistente Golpes Agua', 'Celular: Celular Slider S8 Ipro Camara Radio Memoria Fm', 'Celular: Ultra-lipo Quemador De Grasa', 'Celular: Celular Moto E6 Play --32 Gb//2 Gb Ram Lector De Huella', 'Celular: Celular Movic Héro 7 Android 8.1 Huella Digital/envío Gratis', 'Celular: Celular Barato Unonu J8 Nuevo Multifuncional- Garantizado ', 'Celular: Celular Blu J6 Huella 6.0  Quad Core 2.800 Mah Android 8.1', 'Celular: Samsung Galaxy J2 Core Android Oreo Dual Sim 4g Lte', 'Celular: Celular Libre Ipro V7 Dual Sim Tapita 3mpx Flash Blueto', 'Celular: Celular Nokia 106 - 4mb Gris', 'Celular: Celular Caterpillar Cat B26  Resistente Polvo / Agua Ip68', 'Celular: Celular  Unonu J8 Nuevo Doble Sim, Camara Con Flash Y Radio ', 'Celular: Celular Blu Joy Sos 3g Botón De Emerg. Memoria128mb 64mb Ram', 'Celular: Celular Blu Advance L5 4  16gb+512ram Android8.1 Cámara5+2mp', 'Celular: Celular Rompe Muros 2020', 'Celular: Celular Tecno Spark 5 Air 32gb+2gb', 'Celular: Celular Nokia 106', 'Celular: Celular Z5 1.8  Cámara Vga Bluetooth V2.1 Radio Fm', \"Celular: Celular Neffos C9a 5.45'' Desbloqueo Facial, Huella + Regalo\", 'Celular: Celular Caterpillar Cat B26  Resistente Polvo/ Agua Ip68/fm', 'Celular:  Huawei Y6 2019 4g', 'Celular: Celular Zte Blade L130 3g, 8gb, 5 Mpx, Android Go', 'Celular: Alcachofa + Cafeina Armesso Inyectable Quema Grasa Ampollas', 'Celular: Celular Smartphone Libre Alcatel 1 Trasmision De Datos 4g', 'Celular: Cargador Apple iPhone + Cable 5s 6 7 8 X Xr Xs Max', 'Celular: Celular Unonu J8 Doble Sim Memoria Bluetooth Camara Barato ', 'Celular: Celular  Tipo Nokia 106', 'Celular: Moto E6 Play Negro 32gb- Lector Huella', 'Celular: Zte Blade A3 Lite Económico 32gb Chip De Tigo Dual Sim ', 'Celular: Telefono Blu Advance L5 Android 8.1 8gb Memoria Dual Sim']\n",
            "['Celular: Celular Motorola Moto One Macro', 'Celular: Celular Libre Panasonic Gd100s Radio Fm Linterna Dual Sim 2g', 'Celular: Celular 4g 3gb/32gb/128gb Sd Dual Sim Neffos C9', 'Celular: Motorola Moto G8 Play 4g', 'Celular: Celular Nokia 106 ', 'Celular: Celular Huawei Honor 10 Lite 32gb 24mp Huella 4g Lte ', 'Celular: Celular Adulto Mayor Abuelos Discapacitados Tecla Emergencia', 'Celular: Celular Caterpillar Cat B26  Resistente Polvo / Agua Ip68', 'Celular: Máquina Para Blindar Celulares, Blindaje De Celulares', 'Celular: Celular Motorola Moto E6 Play 32gb 2 Ram Lector Huella 4g', 'Celular: Celular Flecha Panasonic Radio Fm Linterna Dual Sim Memoria ', 'Celular: Celular Libre Xiaomi Redmi 8a 32gb Bateria 5000mah 12mp 4g', 'Celular: Celular Libre Xiaomi Redmi 9a 32gb 5000mah', 'Celular: Celular Zte L8, 1gb/16gb, 5mpx/8mpx, Android Pie ', 'Celular: Celular Libre Xiaomi Redmi 7a 32gb 4g Lte ', 'Celular: Celular Cat Hf5d Modelo A8 Dual Sim 100% Nuevo ', 'Celular: Celular Motorola E6 Play Libre  32gb/2ram', 'Celular: Celular Adulto Mayor Abuelos Discapacidad  Teclas Emergencia', 'Celular: Celular Caterpillar Cat B26 Dual Sim Resistente A Todo ', 'Celular: Caja Desinfeccion Uv Celular Reloj Tapabocas Virus Bacterias', 'Celular: Celular Libre Ipro Shark Ip67 3mp Res Agua Y Golpes Dual Sim', 'Celular: Xiaomi Redmi 8a 2gb/32gb 12mpx/8mpx 5000 Mah', 'Celular: Celular Neffos N105, Dual Sim, Cámara, Radio Fm, Linterna', 'Celular: Celular Huawei Y5 2018 16gb', 'Celular: Celular Caterpillar Cat B26 Dual Sim Resistente Golpes Agua', 'Celular: Celular Slider S8 Ipro Camara Radio Memoria Fm', 'Celular: Ultra-lipo Quemador De Grasa', 'Celular: Celular Moto E6 Play --32 Gb//2 Gb Ram Lector De Huella', 'Celular: Celular Movic Héro 7 Android 8.1 Huella Digital/envío Gratis', 'Celular: Celular Barato Unonu J8 Nuevo Multifuncional- Garantizado ', 'Celular: Celular Blu J6 Huella 6.0  Quad Core 2.800 Mah Android 8.1', 'Celular: Samsung Galaxy J2 Core Android Oreo Dual Sim 4g Lte', 'Celular: Celular Libre Ipro V7 Dual Sim Tapita 3mpx Flash Blueto', 'Celular: Celular Nokia 106 - 4mb Gris', 'Celular: Celular Caterpillar Cat B26  Resistente Polvo / Agua Ip68', 'Celular: Celular  Unonu J8 Nuevo Doble Sim, Camara Con Flash Y Radio ', 'Celular: Celular Blu Joy Sos 3g Botón De Emerg. Memoria128mb 64mb Ram', 'Celular: Celular Blu Advance L5 4  16gb+512ram Android8.1 Cámara5+2mp', 'Celular: Celular Rompe Muros 2020', 'Celular: Celular Tecno Spark 5 Air 32gb+2gb', 'Celular: Celular Nokia 106', 'Celular: Celular Z5 1.8  Cámara Vga Bluetooth V2.1 Radio Fm', \"Celular: Celular Neffos C9a 5.45'' Desbloqueo Facial, Huella + Regalo\", 'Celular: Celular Caterpillar Cat B26  Resistente Polvo/ Agua Ip68/fm', 'Celular:  Huawei Y6 2019 4g', 'Celular: Celular Zte Blade L130 3g, 8gb, 5 Mpx, Android Go', 'Celular: Alcachofa + Cafeina Armesso Inyectable Quema Grasa Ampollas', 'Celular: Celular Smartphone Libre Alcatel 1 Trasmision De Datos 4g', 'Celular: Cargador Apple iPhone + Cable 5s 6 7 8 X Xr Xs Max', 'Celular: Celular Unonu J8 Doble Sim Memoria Bluetooth Camara Barato ', 'Celular: Celular  Tipo Nokia 106', 'Celular: Moto E6 Play Negro 32gb- Lector Huella', 'Celular: Zte Blade A3 Lite Económico 32gb Chip De Tigo Dual Sim ', 'Celular: Telefono Blu Advance L5 Android 8.1 8gb Memoria Dual Sim']\n"
          ],
          "name": "stdout"
        }
      ]
    },
    {
      "cell_type": "code",
      "metadata": {
        "id": "qkUQb6zrw61t",
        "colab_type": "code",
        "colab": {
          "base_uri": "https://localhost:8080/",
          "height": 54
        },
        "outputId": "49cbf3e7-6d6a-483e-9ee3-1ae537b5e1ab"
      },
      "source": [
        "motorola = lambda elemento : 'Motorola ' in elemento \n",
        "\n",
        "listamotorola = list (filter(motorola, titulosCelular ))\n",
        "celularSerie = pd.Series(listamotorola)\n",
        "celularSerie.to_csv('MotorolaNew.csv', index_label = 'Motorola')\n",
        "\n",
        "\n",
        "\n",
        "nombresCelularCortos = lambda elemento : len (elemento) < 80\n",
        "listaNombresFiltrados = list ( filter(nombresCelularCortos, listamotorola))\n",
        "print (listaNombresFiltrados)\n",
        "\n",
        "\n"
      ],
      "execution_count": 102,
      "outputs": [
        {
          "output_type": "stream",
          "text": [
            "['Celular: Celular Motorola Moto One Macro', 'Celular: Motorola Moto G8 Play 4g', 'Celular: Celular Motorola Moto E6 Play 32gb 2 Ram Lector Huella 4g', 'Celular: Celular Motorola E6 Play Libre  32gb/2ram']\n"
          ],
          "name": "stdout"
        }
      ]
    },
    {
      "cell_type": "code",
      "metadata": {
        "id": "8b6P03enziHI",
        "colab_type": "code",
        "colab": {
          "base_uri": "https://localhost:8080/",
          "height": 34
        },
        "outputId": "0505da65-c2b5-415c-c8c2-ca3cf28949be"
      },
      "source": [
        "from functools import reduce \n",
        "\n",
        "lista = titulosCelular\n",
        "size = lambda elemento: len (elemento)\n",
        "\n",
        "listaSize = list (map(size,lista))\n",
        "sumador = lambda elemento = 0, acumulador = 0 : acumulador + elemento \n",
        "promedio = reduce (sumador, listaSize) / len( titulosCelular)\n",
        "print (promedio)"
      ],
      "execution_count": 103,
      "outputs": [
        {
          "output_type": "stream",
          "text": [
            "57.24074074074074\n"
          ],
          "name": "stdout"
        }
      ]
    },
    {
      "cell_type": "code",
      "metadata": {
        "id": "6dvU3-Mh2kmC",
        "colab_type": "code",
        "colab": {}
      },
      "source": [
        "celularDataFrame"
      ],
      "execution_count": null,
      "outputs": []
    },
    {
      "cell_type": "code",
      "metadata": {
        "id": "ZvZNC79H3yGy",
        "colab_type": "code",
        "colab": {}
      },
      "source": [
        "CelularDF"
      ],
      "execution_count": null,
      "outputs": []
    },
    {
      "cell_type": "code",
      "metadata": {
        "id": "0REmxWrg32Qr",
        "colab_type": "code",
        "colab": {}
      },
      "source": [
        "celularSerie"
      ],
      "execution_count": null,
      "outputs": []
    },
    {
      "cell_type": "code",
      "metadata": {
        "id": "4Ab5gKEYCO90",
        "colab_type": "code",
        "colab": {
          "base_uri": "https://localhost:8080/",
          "height": 71
        },
        "outputId": "252e1c46-216f-4f14-aac7-4ea936f49cd4"
      },
      "source": [
        "lisra = listaPrecios\n",
        "size = lambda elemento : len(elemento)\n",
        "listaSize = list (map(size, listaPrecios))\n",
        "print (listaSize)\n",
        "sumador = lambda elemento = 0, acumulador = 0 : acumulador + elemento \n",
        "promedio = reduce (sumador, listaSize) / max(listaSize)\n",
        "print (promedio )"
      ],
      "execution_count": 105,
      "outputs": [
        {
          "output_type": "stream",
          "text": [
            "[7, 7, 6, 6, 6, 5, 7, 7, 6, 7, 6, 6, 5, 7, 7, 6, 7, 6, 7, 6, 7, 5, 7, 6, 6, 6, 5, 7, 7, 6, 7, 7, 6, 7, 5, 7, 7, 6, 7, 6, 7, 6, 7, 6, 7, 5, 7, 6, 7, 5, 7, 6, 6, 6]\n",
            "48.857142857142854\n"
          ],
          "name": "stdout"
        }
      ]
    },
    {
      "cell_type": "code",
      "metadata": {
        "id": "-ZlPVCTp37H-",
        "colab_type": "code",
        "colab": {
          "base_uri": "https://localhost:8080/",
          "height": 345
        },
        "outputId": "b3ed67a6-30a7-4d6a-fa55-7d2d871b7333"
      },
      "source": [
        "print(len(listaPrecios))\n",
        "import pandas as pd\n",
        "\n",
        "business_results_frame =  pd.DataFrame({'Precio' : [999.900, 499.900,13.886,79.900,44.900,1.247, 469.900, 369.900, 10.275]}, index = ['celular motorola moto one macro', 'celular libre panasonic Gd100s radio Fm Linterna Dual Sim 2g', 'Celular 4g 3gb/32gb/128gb Sd Dual Sim Neffos C9', 'Motorola Moto G8 Play 4g', 'Celular Nokia 106', 'Celular Huawei Honor 10 Lite 32gb 24mp Huella 4g Lte\t', 'Celular Adulto Mayor Abuelos Discapacitados Tecla Emergencia', 'Celular Adulto Mayor Abuelos Discapacidad Teclas Emergencia', 'Celular Adulto Mayor Abuelos Discapacitados Tecla Emergencia'])\n",
        "business_results_frame\n"
      ],
      "execution_count": null,
      "outputs": [
        {
          "output_type": "stream",
          "text": [
            "124\n"
          ],
          "name": "stdout"
        },
        {
          "output_type": "execute_result",
          "data": {
            "text/html": [
              "<div>\n",
              "<style scoped>\n",
              "    .dataframe tbody tr th:only-of-type {\n",
              "        vertical-align: middle;\n",
              "    }\n",
              "\n",
              "    .dataframe tbody tr th {\n",
              "        vertical-align: top;\n",
              "    }\n",
              "\n",
              "    .dataframe thead th {\n",
              "        text-align: right;\n",
              "    }\n",
              "</style>\n",
              "<table border=\"1\" class=\"dataframe\">\n",
              "  <thead>\n",
              "    <tr style=\"text-align: right;\">\n",
              "      <th></th>\n",
              "      <th>Precio</th>\n",
              "    </tr>\n",
              "  </thead>\n",
              "  <tbody>\n",
              "    <tr>\n",
              "      <th>celular motorola moto one macro</th>\n",
              "      <td>999.900</td>\n",
              "    </tr>\n",
              "    <tr>\n",
              "      <th>celular libre panasonic Gd100s radio Fm Linterna Dual Sim 2g</th>\n",
              "      <td>499.900</td>\n",
              "    </tr>\n",
              "    <tr>\n",
              "      <th>Celular 4g 3gb/32gb/128gb Sd Dual Sim Neffos C9</th>\n",
              "      <td>13.886</td>\n",
              "    </tr>\n",
              "    <tr>\n",
              "      <th>Motorola Moto G8 Play 4g</th>\n",
              "      <td>79.900</td>\n",
              "    </tr>\n",
              "    <tr>\n",
              "      <th>Celular Nokia 106</th>\n",
              "      <td>44.900</td>\n",
              "    </tr>\n",
              "    <tr>\n",
              "      <th>Celular Huawei Honor 10 Lite 32gb 24mp Huella 4g Lte\\t</th>\n",
              "      <td>1.247</td>\n",
              "    </tr>\n",
              "    <tr>\n",
              "      <th>Celular Adulto Mayor Abuelos Discapacitados Tecla Emergencia</th>\n",
              "      <td>469.900</td>\n",
              "    </tr>\n",
              "    <tr>\n",
              "      <th>Celular Adulto Mayor Abuelos Discapacidad Teclas Emergencia</th>\n",
              "      <td>369.900</td>\n",
              "    </tr>\n",
              "    <tr>\n",
              "      <th>Celular Adulto Mayor Abuelos Discapacitados Tecla Emergencia</th>\n",
              "      <td>10.275</td>\n",
              "    </tr>\n",
              "  </tbody>\n",
              "</table>\n",
              "</div>"
            ],
            "text/plain": [
              "                                                     Precio\n",
              "celular motorola moto one macro                     999.900\n",
              "celular libre panasonic Gd100s radio Fm Lintern...  499.900\n",
              "Celular 4g 3gb/32gb/128gb Sd Dual Sim Neffos C9      13.886\n",
              "Motorola Moto G8 Play 4g                             79.900\n",
              "Celular Nokia 106                                    44.900\n",
              "Celular Huawei Honor 10 Lite 32gb 24mp Huella 4...    1.247\n",
              "Celular Adulto Mayor Abuelos Discapacitados Tec...  469.900\n",
              "Celular Adulto Mayor Abuelos Discapacidad Tecla...  369.900\n",
              "Celular Adulto Mayor Abuelos Discapacitados Tec...   10.275"
            ]
          },
          "metadata": {
            "tags": []
          },
          "execution_count": 85
        }
      ]
    }
  ]
}